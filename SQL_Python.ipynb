{
 "cells": [
  {
   "cell_type": "markdown",
   "id": "179271a5-bdcd-4970-be2a-a444af5b5927",
   "metadata": {},
   "source": [
    "# Practica SQLite y Python Desde Jupyter Notebook"
   ]
  },
  {
   "cell_type": "code",
   "execution_count": 1,
   "id": "c6616da0-829b-4b18-9474-2b6e16e26c5a",
   "metadata": {},
   "outputs": [],
   "source": [
    "# importaciones\n",
    "import sqlite3\n",
    "import os\n",
    "import pandas as pd"
   ]
  },
  {
   "cell_type": "code",
   "execution_count": 2,
   "id": "182d106e-11c6-4010-ba51-6580399d867f",
   "metadata": {},
   "outputs": [
    {
     "data": {
      "text/plain": [
       "'C:\\\\Users\\\\Lenovo Ideapad 3\\\\Desktop\\\\Portafolio Data Scientis\\\\Practica_SQL_Python'"
      ]
     },
     "execution_count": 2,
     "metadata": {},
     "output_type": "execute_result"
    }
   ],
   "source": [
    "# en la siguiente linea se extrae la direccion del directorio de trabajo\n",
    "os.getcwd()"
   ]
  },
  {
   "cell_type": "markdown",
   "id": "c590b1b7-7fb1-467b-ab2e-370994166dff",
   "metadata": {},
   "source": [
    "## Cargando la base de datos"
   ]
  },
  {
   "cell_type": "code",
   "execution_count": 5,
   "id": "419a95e4-0a3d-4588-8925-7a42b779516a",
   "metadata": {},
   "outputs": [],
   "source": [
    "# para este paso se debe escribir de forma exacta \"path\" como nombre de variable\n",
    "# ademas de tener presente la direccion exacta de la base de datos\n",
    "path = 'C:\\\\Users\\\\Lenovo Ideapad 3\\\\Desktop\\\\Portafolio Data Scientis\\\\Practica_SQL_Python\\\\sqlite-sakila.db'\n",
    "sqliteConnection = sqlite3.connect(path)\n",
    "cursor = sqliteConnection.cursor()"
   ]
  },
  {
   "cell_type": "code",
   "execution_count": 6,
   "id": "0b1642c7-32a3-4960-bca9-2930ccc2dda1",
   "metadata": {},
   "outputs": [
    {
     "name": "stdout",
     "output_type": "stream",
     "text": [
      "[('actor',), ('country',), ('city',), ('address',), ('language',), ('category',), ('customer',), ('film',), ('film_actor',), ('film_category',), ('film_text',), ('inventory',), ('staff',), ('store',), ('payment',), ('rental',)]\n"
     ]
    }
   ],
   "source": [
    "# mirando tablas de una Base de datos\n",
    "cursor.execute(\"SELECT name FROM sqlite_master WHERE type='table';\")\n",
    "print(cursor.fetchall())"
   ]
  },
  {
   "cell_type": "markdown",
   "id": "5f15ca08-974b-4cb7-bc82-2a45bac9818b",
   "metadata": {},
   "source": [
    "## Haciendo queries con sqlite3"
   ]
  },
  {
   "cell_type": "code",
   "execution_count": 10,
   "id": "baf44009-f382-4fbd-85de-116b91b84045",
   "metadata": {},
   "outputs": [
    {
     "name": "stdout",
     "output_type": "stream",
     "text": [
      "[(1, 'ACADEMY DINOSAUR', 'A Epic Drama of a Feminist And a Mad Scientist who must Battle a Teacher in The Canadian Rockies', '2006', 1, None, 6, 0.99, 86, 20.99, 'PG', 'Deleted Scenes,Behind the Scenes', '2021-03-06 15:52:00'), (2, 'ACE GOLDFINGER', 'A Astounding Epistle of a Database Administrator And a Explorer who must Find a Car in Ancient China', '2006', 1, None, 3, 4.99, 48, 12.99, 'G', 'Trailers,Deleted Scenes', '2021-03-06 15:52:00'), (3, 'ADAPTATION HOLES', 'A Astounding Reflection of a Lumberjack And a Car who must Sink a Lumberjack in A Baloon Factory', '2006', 1, None, 7, 2.99, 50, 18.99, 'NC-17', 'Trailers,Deleted Scenes', '2021-03-06 15:52:00')]\n"
     ]
    }
   ],
   "source": [
    "query = \"SELECT * FROM film LIMIT 3;\"\n",
    "cursor.execute(query)\n",
    "print(cursor.fetchall())"
   ]
  },
  {
   "cell_type": "code",
   "execution_count": 11,
   "id": "8ab99aa5-27ab-4fcf-babf-ff34a3e7837c",
   "metadata": {},
   "outputs": [
    {
     "name": "stdout",
     "output_type": "stream",
     "text": [
      "(1, 'ACADEMY DINOSAUR', 'A Epic Drama of a Feminist And a Mad Scientist who must Battle a Teacher in The Canadian Rockies', '2006', 1, None, 6, 0.99, 86, 20.99, 'PG', 'Deleted Scenes,Behind the Scenes', '2021-03-06 15:52:00')\n",
      "(2, 'ACE GOLDFINGER', 'A Astounding Epistle of a Database Administrator And a Explorer who must Find a Car in Ancient China', '2006', 1, None, 3, 4.99, 48, 12.99, 'G', 'Trailers,Deleted Scenes', '2021-03-06 15:52:00')\n",
      "(3, 'ADAPTATION HOLES', 'A Astounding Reflection of a Lumberjack And a Car who must Sink a Lumberjack in A Baloon Factory', '2006', 1, None, 7, 2.99, 50, 18.99, 'NC-17', 'Trailers,Deleted Scenes', '2021-03-06 15:52:00')\n"
     ]
    }
   ],
   "source": [
    "query = \"SELECT * FROM film LIMIT 3;\"\n",
    "cursor.execute(query)\n",
    "output = cursor.fetchall()\n",
    "for row in output:\n",
    "    print(row)"
   ]
  },
  {
   "cell_type": "markdown",
   "id": "70fe94bf-58b6-4f87-b8a2-87614fc559ec",
   "metadata": {},
   "source": [
    "## haciendo queris con pandas"
   ]
  },
  {
   "cell_type": "code",
   "execution_count": 20,
   "id": "a1ca0b4c-26c3-4d3e-8583-a682cb2cd32f",
   "metadata": {},
   "outputs": [
    {
     "data": {
      "text/html": [
       "<div>\n",
       "<style scoped>\n",
       "    .dataframe tbody tr th:only-of-type {\n",
       "        vertical-align: middle;\n",
       "    }\n",
       "\n",
       "    .dataframe tbody tr th {\n",
       "        vertical-align: top;\n",
       "    }\n",
       "\n",
       "    .dataframe thead th {\n",
       "        text-align: right;\n",
       "    }\n",
       "</style>\n",
       "<table border=\"1\" class=\"dataframe\">\n",
       "  <thead>\n",
       "    <tr style=\"text-align: right;\">\n",
       "      <th></th>\n",
       "      <th>film_id</th>\n",
       "      <th>title</th>\n",
       "      <th>description</th>\n",
       "      <th>release_year</th>\n",
       "      <th>language_id</th>\n",
       "      <th>original_language_id</th>\n",
       "      <th>rental_duration</th>\n",
       "      <th>rental_rate</th>\n",
       "      <th>length</th>\n",
       "      <th>replacement_cost</th>\n",
       "      <th>rating</th>\n",
       "      <th>special_features</th>\n",
       "      <th>last_update</th>\n",
       "    </tr>\n",
       "  </thead>\n",
       "  <tbody>\n",
       "    <tr>\n",
       "      <th>0</th>\n",
       "      <td>1</td>\n",
       "      <td>ACADEMY DINOSAUR</td>\n",
       "      <td>A Epic Drama of a Feminist And a Mad Scientist...</td>\n",
       "      <td>2006</td>\n",
       "      <td>1</td>\n",
       "      <td>None</td>\n",
       "      <td>6</td>\n",
       "      <td>0.99</td>\n",
       "      <td>86</td>\n",
       "      <td>20.99</td>\n",
       "      <td>PG</td>\n",
       "      <td>Deleted Scenes,Behind the Scenes</td>\n",
       "      <td>2021-03-06 15:52:00</td>\n",
       "    </tr>\n",
       "    <tr>\n",
       "      <th>1</th>\n",
       "      <td>2</td>\n",
       "      <td>ACE GOLDFINGER</td>\n",
       "      <td>A Astounding Epistle of a Database Administrat...</td>\n",
       "      <td>2006</td>\n",
       "      <td>1</td>\n",
       "      <td>None</td>\n",
       "      <td>3</td>\n",
       "      <td>4.99</td>\n",
       "      <td>48</td>\n",
       "      <td>12.99</td>\n",
       "      <td>G</td>\n",
       "      <td>Trailers,Deleted Scenes</td>\n",
       "      <td>2021-03-06 15:52:00</td>\n",
       "    </tr>\n",
       "    <tr>\n",
       "      <th>2</th>\n",
       "      <td>3</td>\n",
       "      <td>ADAPTATION HOLES</td>\n",
       "      <td>A Astounding Reflection of a Lumberjack And a ...</td>\n",
       "      <td>2006</td>\n",
       "      <td>1</td>\n",
       "      <td>None</td>\n",
       "      <td>7</td>\n",
       "      <td>2.99</td>\n",
       "      <td>50</td>\n",
       "      <td>18.99</td>\n",
       "      <td>NC-17</td>\n",
       "      <td>Trailers,Deleted Scenes</td>\n",
       "      <td>2021-03-06 15:52:00</td>\n",
       "    </tr>\n",
       "    <tr>\n",
       "      <th>3</th>\n",
       "      <td>4</td>\n",
       "      <td>AFFAIR PREJUDICE</td>\n",
       "      <td>A Fanciful Documentary of a Frisbee And a Lumb...</td>\n",
       "      <td>2006</td>\n",
       "      <td>1</td>\n",
       "      <td>None</td>\n",
       "      <td>5</td>\n",
       "      <td>2.99</td>\n",
       "      <td>117</td>\n",
       "      <td>26.99</td>\n",
       "      <td>G</td>\n",
       "      <td>Commentaries,Behind the Scenes</td>\n",
       "      <td>2021-03-06 15:52:00</td>\n",
       "    </tr>\n",
       "    <tr>\n",
       "      <th>4</th>\n",
       "      <td>5</td>\n",
       "      <td>AFRICAN EGG</td>\n",
       "      <td>A Fast-Paced Documentary of a Pastry Chef And ...</td>\n",
       "      <td>2006</td>\n",
       "      <td>1</td>\n",
       "      <td>None</td>\n",
       "      <td>6</td>\n",
       "      <td>2.99</td>\n",
       "      <td>130</td>\n",
       "      <td>22.99</td>\n",
       "      <td>G</td>\n",
       "      <td>Deleted Scenes</td>\n",
       "      <td>2021-03-06 15:52:00</td>\n",
       "    </tr>\n",
       "  </tbody>\n",
       "</table>\n",
       "</div>"
      ],
      "text/plain": [
       "   film_id             title  \\\n",
       "0        1  ACADEMY DINOSAUR   \n",
       "1        2    ACE GOLDFINGER   \n",
       "2        3  ADAPTATION HOLES   \n",
       "3        4  AFFAIR PREJUDICE   \n",
       "4        5       AFRICAN EGG   \n",
       "\n",
       "                                         description release_year  \\\n",
       "0  A Epic Drama of a Feminist And a Mad Scientist...         2006   \n",
       "1  A Astounding Epistle of a Database Administrat...         2006   \n",
       "2  A Astounding Reflection of a Lumberjack And a ...         2006   \n",
       "3  A Fanciful Documentary of a Frisbee And a Lumb...         2006   \n",
       "4  A Fast-Paced Documentary of a Pastry Chef And ...         2006   \n",
       "\n",
       "   language_id original_language_id  rental_duration  rental_rate  length  \\\n",
       "0            1                 None                6         0.99      86   \n",
       "1            1                 None                3         4.99      48   \n",
       "2            1                 None                7         2.99      50   \n",
       "3            1                 None                5         2.99     117   \n",
       "4            1                 None                6         2.99     130   \n",
       "\n",
       "   replacement_cost rating                  special_features  \\\n",
       "0             20.99     PG  Deleted Scenes,Behind the Scenes   \n",
       "1             12.99      G           Trailers,Deleted Scenes   \n",
       "2             18.99  NC-17           Trailers,Deleted Scenes   \n",
       "3             26.99      G    Commentaries,Behind the Scenes   \n",
       "4             22.99      G                    Deleted Scenes   \n",
       "\n",
       "           last_update  \n",
       "0  2021-03-06 15:52:00  \n",
       "1  2021-03-06 15:52:00  \n",
       "2  2021-03-06 15:52:00  \n",
       "3  2021-03-06 15:52:00  \n",
       "4  2021-03-06 15:52:00  "
      ]
     },
     "execution_count": 20,
     "metadata": {},
     "output_type": "execute_result"
    }
   ],
   "source": [
    "query = \"SELECT * FROM film LIMIT 10;\"\n",
    "pd.read_sql_query(query, sqliteConnection).head()"
   ]
  },
  {
   "cell_type": "code",
   "execution_count": 24,
   "id": "5be4696e-0de1-4b20-badd-ea31ecbf2702",
   "metadata": {},
   "outputs": [
    {
     "data": {
      "text/html": [
       "<div>\n",
       "<style scoped>\n",
       "    .dataframe tbody tr th:only-of-type {\n",
       "        vertical-align: middle;\n",
       "    }\n",
       "\n",
       "    .dataframe tbody tr th {\n",
       "        vertical-align: top;\n",
       "    }\n",
       "\n",
       "    .dataframe thead th {\n",
       "        text-align: right;\n",
       "    }\n",
       "</style>\n",
       "<table border=\"1\" class=\"dataframe\">\n",
       "  <thead>\n",
       "    <tr style=\"text-align: right;\">\n",
       "      <th></th>\n",
       "      <th>rating</th>\n",
       "      <th>AVG(length)</th>\n",
       "    </tr>\n",
       "  </thead>\n",
       "  <tbody>\n",
       "    <tr>\n",
       "      <th>0</th>\n",
       "      <td>NC-17</td>\n",
       "      <td>113.228571</td>\n",
       "    </tr>\n",
       "    <tr>\n",
       "      <th>1</th>\n",
       "      <td>PG</td>\n",
       "      <td>112.005155</td>\n",
       "    </tr>\n",
       "    <tr>\n",
       "      <th>2</th>\n",
       "      <td>R</td>\n",
       "      <td>118.661538</td>\n",
       "    </tr>\n",
       "  </tbody>\n",
       "</table>\n",
       "</div>"
      ],
      "text/plain": [
       "  rating  AVG(length)\n",
       "0  NC-17   113.228571\n",
       "1     PG   112.005155\n",
       "2      R   118.661538"
      ]
     },
     "execution_count": 24,
     "metadata": {},
     "output_type": "execute_result"
    }
   ],
   "source": [
    "# mas queries con pandas\n",
    "query = '''\n",
    "SELECT rating, AVG(length)\n",
    "FROM film\n",
    "GROUP BY rating\n",
    "HAVING AVG(length) BETWEEN 112 AND 120\n",
    "'''\n",
    "pd.read_sql_query(query, sqliteConnection)"
   ]
  },
  {
   "cell_type": "code",
   "execution_count": 25,
   "id": "1bf6e389-5c59-44f8-91b2-38a34c52b0a8",
   "metadata": {},
   "outputs": [],
   "source": [
    "# haciendo queries sin muchos comandos sql, en su mayoria pandas\n",
    "query = \"SELECT * FROM film\"\n",
    "df_film = pd.read_sql_query(query, sqliteConnection)"
   ]
  },
  {
   "cell_type": "code",
   "execution_count": 38,
   "id": "4c1d4631-321d-4750-a0f6-63e301c44c67",
   "metadata": {},
   "outputs": [
    {
     "data": {
      "text/html": [
       "<div>\n",
       "<style scoped>\n",
       "    .dataframe tbody tr th:only-of-type {\n",
       "        vertical-align: middle;\n",
       "    }\n",
       "\n",
       "    .dataframe tbody tr th {\n",
       "        vertical-align: top;\n",
       "    }\n",
       "\n",
       "    .dataframe thead th {\n",
       "        text-align: right;\n",
       "    }\n",
       "</style>\n",
       "<table border=\"1\" class=\"dataframe\">\n",
       "  <thead>\n",
       "    <tr style=\"text-align: right;\">\n",
       "      <th></th>\n",
       "      <th>length</th>\n",
       "    </tr>\n",
       "    <tr>\n",
       "      <th>rating</th>\n",
       "      <th></th>\n",
       "    </tr>\n",
       "  </thead>\n",
       "  <tbody>\n",
       "    <tr>\n",
       "      <th>G</th>\n",
       "      <td>111.050562</td>\n",
       "    </tr>\n",
       "    <tr>\n",
       "      <th>NC-17</th>\n",
       "      <td>113.228571</td>\n",
       "    </tr>\n",
       "    <tr>\n",
       "      <th>PG</th>\n",
       "      <td>112.005155</td>\n",
       "    </tr>\n",
       "    <tr>\n",
       "      <th>PG-13</th>\n",
       "      <td>120.443946</td>\n",
       "    </tr>\n",
       "    <tr>\n",
       "      <th>R</th>\n",
       "      <td>118.661538</td>\n",
       "    </tr>\n",
       "  </tbody>\n",
       "</table>\n",
       "</div>"
      ],
      "text/plain": [
       "            length\n",
       "rating            \n",
       "G       111.050562\n",
       "NC-17   113.228571\n",
       "PG      112.005155\n",
       "PG-13   120.443946\n",
       "R       118.661538"
      ]
     },
     "execution_count": 38,
     "metadata": {},
     "output_type": "execute_result"
    }
   ],
   "source": [
    "(df_film.groupby('rating').mean()[['length']])"
   ]
  },
  {
   "cell_type": "code",
   "execution_count": 39,
   "id": "344f4a40-55dc-43a1-b921-7d196b8857c6",
   "metadata": {},
   "outputs": [
    {
     "data": {
      "text/html": [
       "<div>\n",
       "<style scoped>\n",
       "    .dataframe tbody tr th:only-of-type {\n",
       "        vertical-align: middle;\n",
       "    }\n",
       "\n",
       "    .dataframe tbody tr th {\n",
       "        vertical-align: top;\n",
       "    }\n",
       "\n",
       "    .dataframe thead th {\n",
       "        text-align: right;\n",
       "    }\n",
       "</style>\n",
       "<table border=\"1\" class=\"dataframe\">\n",
       "  <thead>\n",
       "    <tr style=\"text-align: right;\">\n",
       "      <th></th>\n",
       "      <th>length</th>\n",
       "    </tr>\n",
       "    <tr>\n",
       "      <th>rating</th>\n",
       "      <th></th>\n",
       "    </tr>\n",
       "  </thead>\n",
       "  <tbody>\n",
       "    <tr>\n",
       "      <th>NC-17</th>\n",
       "      <td>113.228571</td>\n",
       "    </tr>\n",
       "    <tr>\n",
       "      <th>PG</th>\n",
       "      <td>112.005155</td>\n",
       "    </tr>\n",
       "    <tr>\n",
       "      <th>R</th>\n",
       "      <td>118.661538</td>\n",
       "    </tr>\n",
       "  </tbody>\n",
       "</table>\n",
       "</div>"
      ],
      "text/plain": [
       "            length\n",
       "rating            \n",
       "NC-17   113.228571\n",
       "PG      112.005155\n",
       "R       118.661538"
      ]
     },
     "execution_count": 39,
     "metadata": {},
     "output_type": "execute_result"
    }
   ],
   "source": [
    "(df_film.groupby('rating').mean()[['length']].query('length >= 112 & length <= 120'))"
   ]
  },
  {
   "cell_type": "markdown",
   "id": "ec1f3906-dd80-4207-ac96-46999d20b967",
   "metadata": {},
   "source": [
    "## Cerrar conexiones"
   ]
  },
  {
   "cell_type": "code",
   "execution_count": 40,
   "id": "9d03065a-ec25-4694-bb4d-77bd48e8b982",
   "metadata": {},
   "outputs": [],
   "source": [
    "# cerrar cursor\n",
    "cursor.close()"
   ]
  },
  {
   "cell_type": "code",
   "execution_count": 41,
   "id": "c9116a75-fe1b-4e59-8162-5fa830acf2c9",
   "metadata": {},
   "outputs": [],
   "source": [
    "# cerrar base de datos\n",
    "sqliteConnection.close()"
   ]
  }
 ],
 "metadata": {
  "kernelspec": {
   "display_name": "Python 3 (ipykernel)",
   "language": "python",
   "name": "python3"
  },
  "language_info": {
   "codemirror_mode": {
    "name": "ipython",
    "version": 3
   },
   "file_extension": ".py",
   "mimetype": "text/x-python",
   "name": "python",
   "nbconvert_exporter": "python",
   "pygments_lexer": "ipython3",
   "version": "3.9.13"
  }
 },
 "nbformat": 4,
 "nbformat_minor": 5
}
